














# Your code here
import pandas as pd
import matplotlib.pyplot as plt
%matplotlib inline






# Your code here
df = pd.read_csv('data/ames.csv', index_col = 0)






# Run this cell without changes

# Check that df is a dataframe
assert type(df) == pd.DataFrame

# Check that there are the correct number of rows
assert df.shape[0] == 1460

# Check that there are the correct number of columns
# (if this crashes, make sure you specified `index_col=0`)
assert df.shape[1] == 80





# Run this cell without changes
df


# Run this cell without changes
df.info()








# Your code here
plt.hist(df['SalePrice'], bins=8)
plt.xlabel('Sale Price')
plt.ylabel('Frequency')
plt.title('Sale price distribution');





# Your code here
print(f"Mean: {df['SalePrice'].mean()}")
print(f"Median: {df['SalePrice'].median()}")
print(f"Standard dev: {df['SalePrice'].std()}")





# Replace None with appropriate text
"""
Most houses are priced between 100,000 and 200,000.
The data is positively skewed
"""





# Your code here
plt.hist(df['TotRmsAbvGrd'], bins=10)
plt.xlabel('Total Rooms Above Grade')
plt.ylabel('Frequency')
plt.title('Histogram of Total Rooms Above Grade');





# Your code here
print(f"Mean: {df['TotRmsAbvGrd'].mean()}")
print(f"Median: {df['TotRmsAbvGrd'].median()}")
print(f"Standard dev: {df['TotRmsAbvGrd'].std()}")





# Replace None with appropriate text
"""
The average number of rooms per house which are above grade is 6, which is
also the mode.
The distribution of the rooms above grade is almost normal.
"""





# Your code here
plt.hist(df['OverallCond'], bins=5)
plt.xlabel('Overall condition')
plt.ylabel('Frequency')
plt.title('Histogram of Overall Condition of Houses');





# Your code here
print(f"Mean: {df['OverallCond'].mean()}")
print(f"Median: {df['OverallCond'].median()}")
print(f"Standard dev: {df['OverallCond'].std()}")





# Replace None with appropriate text
"""
Most houses are in fairly good condition.
"""





# Replace None with appropriate code
below_average_condition = df.loc[df['OverallCond'] < 5]
average_condition = df.loc[df['OverallCond'] == 5]
above_average_condition = df.loc[df['OverallCond'] > 5]


below_average_condition.head(7)





# Run this cell without changes

# Check that all of them still have 80 columns
assert below_average_condition.shape[1] == 80
assert average_condition.shape[1] == 80
assert above_average_condition.shape[1] == 80

# Check the numbers of rows of each subset
assert below_average_condition.shape[0] == 88
assert average_condition.shape[0] == 821
assert above_average_condition.shape[0] == 551





# Run this cell without changes

# Set up plot
fig, ax = plt.subplots(figsize=(15,5))

# Create custom bins so all are on the same scale
bins = range(df["SalePrice"].min(), df["SalePrice"].max(), int(df["SalePrice"].median()) // 20)

# Plot three histograms, with reduced opacity (alpha) so we
# can see them overlapping
ax.hist(
    x=above_average_condition["SalePrice"],
    label="above average condition",
    bins=bins,
    color="cyan",
    alpha=0.5
)
ax.hist(
    x=average_condition["SalePrice"],
    label="average condition",
    bins=bins,
    color="gray",
    alpha=0.3
)
ax.hist(
    x=below_average_condition["SalePrice"],
    label="below average condition",
    bins=bins,
    color="yellow",
    alpha=0.5
)

# Customize labels
ax.set_title("Distributions of Sale Price Grouped by Condition")
ax.set_xlabel("Sale Price")
ax.set_ylabel("Number of Houses")
ax.legend();





# Replace None with appropriate text
"""
It can be noted that houses that are in average condition sell more than houses in above average condition. Also, the houses in average condition, tend to be more 
expensive than houses in above condition, which isn't the norm.
"""





correlations = df.corr()
saleprice_corr = correlations['SalePrice'].drop('SalePrice')
most_pstv_column = saleprice_corr.idxmax()
most_pstv_corr_value = saleprice_corr[most_pstv_column]

print(f"Most positive correlated column: {most_pstv_column}")
print(f"Most positive correlated value: {most_pstv_corr_value}")





correlations = df.corr()
saleprice_corr = correlations['SalePrice'].drop('SalePrice')
most_ngtv_column = saleprice_corr.idxmin()
most_ngtv_corr_value = saleprice_corr[most_ngtv_column]

print(f"Most negative correlated column: {most_ngtv_column}")
print(f"Most negative correlated value: {most_ngtv_corr_value}")





# Replace None with appropriate code

import seaborn as sns

fig, (ax1, ax2) = plt.subplots(ncols=2, figsize=(15,5))

# Plot distribution of column with highest correlation
sns.boxplot(
    x=df[most_pstv_column],
    y=df["SalePrice"],
    ax=ax1
)
# Plot distribution of column with most negative correlation
sns.boxplot(
    x=df[most_ngtv_column ],
    y=df["SalePrice"],
    ax=ax2
)

# Customize labels
ax1.set_title("Box plot of {most_pstv_column} vs Sale Price ")
ax1.set_xlabel(most_pstv_column)
ax1.set_ylabel("Sale Price")
ax2.set_title("Box plot of {most_ngtv_column} vs Sale Price ")
ax2.set_xlabel(most_ngtv_column)
ax2.set_ylabel("Sale Price");





# Replace None with appropriate text
"""
1. For overall quality of the house, the better the finishing, the higher the price of the house.
2. 
"""





# Run this cell without changes
df["YrSold"].value_counts().sort_index()





# Run this cell without changes

# Make a new column, Age
df["Age"] = df["YrSold"] - df["YearBuilt"]

# Set up plot
fig, ax = plt.subplots(figsize=(15,5))

# Plot Age vs. SalePrice
ax.scatter(df["Age"], df["SalePrice"], alpha=0.3, color="green")
ax.set_title("Home Age vs. Sale Price")
ax.set_xlabel("Age of Home at Time of Sale")
ax.set_ylabel("Sale Price");





# Replace None with appropriate text
"""
Houses that are younger tend to be more expensive compared to older ones
"""



